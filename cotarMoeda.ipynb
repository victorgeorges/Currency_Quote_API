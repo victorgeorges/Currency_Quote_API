{
 "cells": [
  {
   "cell_type": "code",
   "execution_count": 36,
   "id": "92746aee",
   "metadata": {},
   "outputs": [],
   "source": [
    "import requests\n",
    "import json\n",
    "\n",
    "cotacoes=requests.get(\"https://economia.awesomeapi.com.br/last/USD-BRL,EUR-BRL,BTC-BRL\")\n",
    "cotacoes=cotacoes.json()\n",
    "cotacao_USD=cotacoes['USDBRL']['bid']\n",
    "nome_USD=cotacoes['USDBRL']['name']\n",
    "valor_max_USD=cotacoes['USDBRL']['high']\n",
    "valor_min_USD=cotacoes['USDBRL']['low']\n",
    "\n",
    "cotacao_BTC=cotacoes['BTCBRL']['bid']\n",
    "nome_BTC=cotacoes['BTCBRL']['name']\n",
    "valor_max_BTC=cotacoes['BTCBRL']['high']\n",
    "valor_min_BTC=cotacoes['BTCBRL']['low']\n",
    "\n",
    "cotacao_EUR=cotacoes['EURBRL']['bid']\n",
    "nome_EUR=cotacoes['EURBRL']['name']\n",
    "valor_max_EUR=cotacoes['EURBRL']['high']\n",
    "valor_min_EUR=cotacoes['EURBRL']['low']"
   ]
  },
  {
   "cell_type": "code",
   "execution_count": 45,
   "id": "6f540418",
   "metadata": {},
   "outputs": [
    {
     "data": {
      "text/html": [
       "<style  type=\"text/css\" >\n",
       "    #T_70235_ th {\n",
       "          text-align: left;\n",
       "    }    #T_70235_ td {\n",
       "          text-align: left;\n",
       "    }</style><table id=\"T_70235_\" ><thead>    <tr>        <th class=\"blank level0\" ></th>        <th class=\"col_heading level0 col0\" >Moeda</th>        <th class=\"col_heading level0 col1\" >Valor Dolar</th>        <th class=\"col_heading level0 col2\" >Valor Máximo</th>        <th class=\"col_heading level0 col3\" >Valor Mínimo</th>    </tr></thead><tbody>\n",
       "                <tr>\n",
       "                        <th id=\"T_70235_level0_row0\" class=\"row_heading level0 row0\" >0</th>\n",
       "                        <td id=\"T_70235_row0_col0\" class=\"data row0 col0\" >Dólar Americano/Real Brasileiro</td>\n",
       "                        <td id=\"T_70235_row0_col1\" class=\"data row0 col1\" >5.428</td>\n",
       "                        <td id=\"T_70235_row0_col2\" class=\"data row0 col2\" >5.4307</td>\n",
       "                        <td id=\"T_70235_row0_col3\" class=\"data row0 col3\" >5.3875</td>\n",
       "            </tr>\n",
       "            <tr>\n",
       "                        <th id=\"T_70235_level0_row1\" class=\"row_heading level0 row1\" >1</th>\n",
       "                        <td id=\"T_70235_row1_col0\" class=\"data row1 col0\" >Bitcoin/Real Brasileiro</td>\n",
       "                        <td id=\"T_70235_row1_col1\" class=\"data row1 col1\" >226.5</td>\n",
       "                        <td id=\"T_70235_row1_col2\" class=\"data row1 col2\" >235</td>\n",
       "                        <td id=\"T_70235_row1_col3\" class=\"data row1 col3\" >226</td>\n",
       "            </tr>\n",
       "            <tr>\n",
       "                        <th id=\"T_70235_level0_row2\" class=\"row_heading level0 row2\" >2</th>\n",
       "                        <td id=\"T_70235_row2_col0\" class=\"data row2 col0\" >Euro/Real Brasileiro</td>\n",
       "                        <td id=\"T_70235_row2_col1\" class=\"data row2 col1\" >6.3445</td>\n",
       "                        <td id=\"T_70235_row2_col2\" class=\"data row2 col2\" >6.3467</td>\n",
       "                        <td id=\"T_70235_row2_col3\" class=\"data row2 col3\" >6.2938</td>\n",
       "            </tr>\n",
       "    </tbody></table>"
      ],
      "text/plain": [
       "<pandas.io.formats.style.Styler at 0x1c0fbbfa520>"
      ]
     },
     "metadata": {},
     "output_type": "display_data"
    }
   ],
   "source": [
    "import pandas as pd\n",
    "\n",
    "tabela = { 'Moeda' : [nome_USD, nome_BTC, nome_EUR ],\n",
    "          'Valor Dolar' : [cotacao_USD, cotacao_BTC, cotacao_EUR ],\n",
    "          'Valor Máximo' : [valor_max_USD, valor_max_BTC, valor_max_EUR],\n",
    "          'Valor Mínimo' : [valor_min_USD, valor_min_BTC, valor_min_EUR],\n",
    "         }\n",
    "tabela_df=pd.DataFrame(tabela).style.set_table_styles([dict(selector='th', props=[('text-align', 'left')]),\n",
    "                                    dict(selector='td', props=[('text-align', 'left')])])\n",
    "display(tabela_df)"
   ]
  },
  {
   "cell_type": "code",
   "execution_count": null,
   "id": "a8ff1c69",
   "metadata": {},
   "outputs": [],
   "source": []
  }
 ],
 "metadata": {
  "kernelspec": {
   "display_name": "Python 3",
   "language": "python",
   "name": "python3"
  },
  "language_info": {
   "codemirror_mode": {
    "name": "ipython",
    "version": 3
   },
   "file_extension": ".py",
   "mimetype": "text/x-python",
   "name": "python",
   "nbconvert_exporter": "python",
   "pygments_lexer": "ipython3",
   "version": "3.8.8"
  }
 },
 "nbformat": 4,
 "nbformat_minor": 5
}
